{
 "cells": [
  {
   "cell_type": "code",
   "execution_count": 1,
   "metadata": {
    "vscode": {
     "languageId": "r"
    }
   },
   "outputs": [],
   "source": [
    "preprocessedExpression <- qs::qread(\"/home/bioinf/bhklab/jermiah/psets/PharmacoSet-Pipelines/CCLE/procdata/preprocessedExpression.qs\", nthreads = 8)"
   ]
  },
  {
   "cell_type": "code",
   "execution_count": 6,
   "metadata": {
    "vscode": {
     "languageId": "r"
    }
   },
   "outputs": [
    {
     "data": {
      "text/html": [
       "<style>\n",
       ".list-inline {list-style: none; margin:0; padding: 0}\n",
       ".list-inline>li {display: inline-block}\n",
       ".list-inline>li:not(:last-child)::after {content: \"\\00b7\"; padding: 0 .5ex}\n",
       "</style>\n",
       "<ol class=list-inline><li>'genes_tpm'</li><li>'transcripts_tpm'</li><li>'gene_rRanges'</li><li>'transcript_rRanges'</li></ol>\n"
      ],
      "text/latex": [
       "\\begin{enumerate*}\n",
       "\\item 'genes\\_tpm'\n",
       "\\item 'transcripts\\_tpm'\n",
       "\\item 'gene\\_rRanges'\n",
       "\\item 'transcript\\_rRanges'\n",
       "\\end{enumerate*}\n"
      ],
      "text/markdown": [
       "1. 'genes_tpm'\n",
       "2. 'transcripts_tpm'\n",
       "3. 'gene_rRanges'\n",
       "4. 'transcript_rRanges'\n",
       "\n",
       "\n"
      ],
      "text/plain": [
       "[1] \"genes_tpm\"          \"transcripts_tpm\"    \"gene_rRanges\"      \n",
       "[4] \"transcript_rRanges\""
      ]
     },
     "metadata": {},
     "output_type": "display_data"
    }
   ],
   "source": [
    "names(preprocessedExpression)"
   ]
  },
  {
   "cell_type": "markdown",
   "metadata": {},
   "source": [
    "### Genes TPM"
   ]
  },
  {
   "cell_type": "code",
   "execution_count": 5,
   "metadata": {
    "vscode": {
     "languageId": "r"
    }
   },
   "outputs": [
    {
     "data": {
      "text/html": [
       "<table class=\"dataframe\">\n",
       "<caption>A data.table: 5 × 5</caption>\n",
       "<thead>\n",
       "\t<tr><th scope=col>gene_id</th><th scope=col>transcript_ids</th><th scope=col>22RV1_PROSTATE</th><th scope=col>2313287_STOMACH</th><th scope=col>253JBV_URINARY_TRACT</th></tr>\n",
       "\t<tr><th scope=col>&lt;chr&gt;</th><th scope=col>&lt;chr&gt;</th><th scope=col>&lt;dbl&gt;</th><th scope=col>&lt;dbl&gt;</th><th scope=col>&lt;dbl&gt;</th></tr>\n",
       "</thead>\n",
       "<tbody>\n",
       "\t<tr><td>ENSG00000000003.10</td><td>ENST00000373020.4,ENST00000494424.1,ENST00000496771.1                                                                                                                              </td><td> 5.28</td><td>  7.01</td><td>22.80</td></tr>\n",
       "\t<tr><td>ENSG00000000005.5 </td><td>ENST00000373031.4,ENST00000485971.1                                                                                                                                                </td><td> 0.00</td><td>  0.00</td><td> 0.00</td></tr>\n",
       "\t<tr><td>ENSG00000000419.8 </td><td>ENST00000371582.4,ENST00000371583.5,ENST00000371584.4,ENST00000371588.5,ENST00000413082.1,ENST00000466152.1,ENST00000494752.1                                                      </td><td>73.38</td><td>108.99</td><td>56.51</td></tr>\n",
       "\t<tr><td>ENSG00000000457.9 </td><td>ENST00000367770.1,ENST00000367771.6,ENST00000367772.4,ENST00000423670.1,ENST00000470238.1                                                                                          </td><td> 9.76</td><td> 16.76</td><td> 2.58</td></tr>\n",
       "\t<tr><td>ENSG00000000460.12</td><td>ENST00000286031.6,ENST00000359326.4,ENST00000413811.2,ENST00000456684.1,ENST00000459772.1,ENST00000466580.2,ENST00000472795.1,ENST00000481744.1,ENST00000496973.1,ENST00000498289.1</td><td>24.51</td><td> 13.32</td><td>10.86</td></tr>\n",
       "</tbody>\n",
       "</table>\n"
      ],
      "text/latex": [
       "A data.table: 5 × 5\n",
       "\\begin{tabular}{lllll}\n",
       " gene\\_id & transcript\\_ids & 22RV1\\_PROSTATE & 2313287\\_STOMACH & 253JBV\\_URINARY\\_TRACT\\\\\n",
       " <chr> & <chr> & <dbl> & <dbl> & <dbl>\\\\\n",
       "\\hline\n",
       "\t ENSG00000000003.10 & ENST00000373020.4,ENST00000494424.1,ENST00000496771.1                                                                                                                               &  5.28 &   7.01 & 22.80\\\\\n",
       "\t ENSG00000000005.5  & ENST00000373031.4,ENST00000485971.1                                                                                                                                                 &  0.00 &   0.00 &  0.00\\\\\n",
       "\t ENSG00000000419.8  & ENST00000371582.4,ENST00000371583.5,ENST00000371584.4,ENST00000371588.5,ENST00000413082.1,ENST00000466152.1,ENST00000494752.1                                                       & 73.38 & 108.99 & 56.51\\\\\n",
       "\t ENSG00000000457.9  & ENST00000367770.1,ENST00000367771.6,ENST00000367772.4,ENST00000423670.1,ENST00000470238.1                                                                                           &  9.76 &  16.76 &  2.58\\\\\n",
       "\t ENSG00000000460.12 & ENST00000286031.6,ENST00000359326.4,ENST00000413811.2,ENST00000456684.1,ENST00000459772.1,ENST00000466580.2,ENST00000472795.1,ENST00000481744.1,ENST00000496973.1,ENST00000498289.1 & 24.51 &  13.32 & 10.86\\\\\n",
       "\\end{tabular}\n"
      ],
      "text/markdown": [
       "\n",
       "A data.table: 5 × 5\n",
       "\n",
       "| gene_id &lt;chr&gt; | transcript_ids &lt;chr&gt; | 22RV1_PROSTATE &lt;dbl&gt; | 2313287_STOMACH &lt;dbl&gt; | 253JBV_URINARY_TRACT &lt;dbl&gt; |\n",
       "|---|---|---|---|---|\n",
       "| ENSG00000000003.10 | ENST00000373020.4,ENST00000494424.1,ENST00000496771.1                                                                                                                               |  5.28 |   7.01 | 22.80 |\n",
       "| ENSG00000000005.5  | ENST00000373031.4,ENST00000485971.1                                                                                                                                                 |  0.00 |   0.00 |  0.00 |\n",
       "| ENSG00000000419.8  | ENST00000371582.4,ENST00000371583.5,ENST00000371584.4,ENST00000371588.5,ENST00000413082.1,ENST00000466152.1,ENST00000494752.1                                                       | 73.38 | 108.99 | 56.51 |\n",
       "| ENSG00000000457.9  | ENST00000367770.1,ENST00000367771.6,ENST00000367772.4,ENST00000423670.1,ENST00000470238.1                                                                                           |  9.76 |  16.76 |  2.58 |\n",
       "| ENSG00000000460.12 | ENST00000286031.6,ENST00000359326.4,ENST00000413811.2,ENST00000456684.1,ENST00000459772.1,ENST00000466580.2,ENST00000472795.1,ENST00000481744.1,ENST00000496973.1,ENST00000498289.1 | 24.51 |  13.32 | 10.86 |\n",
       "\n"
      ],
      "text/plain": [
       "  gene_id           \n",
       "1 ENSG00000000003.10\n",
       "2 ENSG00000000005.5 \n",
       "3 ENSG00000000419.8 \n",
       "4 ENSG00000000457.9 \n",
       "5 ENSG00000000460.12\n",
       "  transcript_ids                                                                                                                                                                     \n",
       "1 ENST00000373020.4,ENST00000494424.1,ENST00000496771.1                                                                                                                              \n",
       "2 ENST00000373031.4,ENST00000485971.1                                                                                                                                                \n",
       "3 ENST00000371582.4,ENST00000371583.5,ENST00000371584.4,ENST00000371588.5,ENST00000413082.1,ENST00000466152.1,ENST00000494752.1                                                      \n",
       "4 ENST00000367770.1,ENST00000367771.6,ENST00000367772.4,ENST00000423670.1,ENST00000470238.1                                                                                          \n",
       "5 ENST00000286031.6,ENST00000359326.4,ENST00000413811.2,ENST00000456684.1,ENST00000459772.1,ENST00000466580.2,ENST00000472795.1,ENST00000481744.1,ENST00000496973.1,ENST00000498289.1\n",
       "  22RV1_PROSTATE 2313287_STOMACH 253JBV_URINARY_TRACT\n",
       "1  5.28            7.01          22.80               \n",
       "2  0.00            0.00           0.00               \n",
       "3 73.38          108.99          56.51               \n",
       "4  9.76           16.76           2.58               \n",
       "5 24.51           13.32          10.86               "
      ]
     },
     "metadata": {},
     "output_type": "display_data"
    }
   ],
   "source": [
    "preprocessedExpression$genes_tpm[1:5,1:5]"
   ]
  },
  {
   "cell_type": "markdown",
   "metadata": {},
   "source": [
    "### Transcripts TPM"
   ]
  },
  {
   "cell_type": "code",
   "execution_count": 7,
   "metadata": {
    "vscode": {
     "languageId": "r"
    }
   },
   "outputs": [
    {
     "data": {
      "text/html": [
       "<table class=\"dataframe\">\n",
       "<caption>A data.table: 5 × 5</caption>\n",
       "<thead>\n",
       "\t<tr><th scope=col>gene_id</th><th scope=col>transcript_id</th><th scope=col>22RV1_PROSTATE</th><th scope=col>2313287_STOMACH</th><th scope=col>253JBV_URINARY_TRACT</th></tr>\n",
       "\t<tr><th scope=col>&lt;chr&gt;</th><th scope=col>&lt;chr&gt;</th><th scope=col>&lt;dbl&gt;</th><th scope=col>&lt;dbl&gt;</th><th scope=col>&lt;dbl&gt;</th></tr>\n",
       "</thead>\n",
       "<tbody>\n",
       "\t<tr><td>ENSG00000000003.10</td><td>ENST00000373020.4</td><td>4.50</td><td>6.72</td><td>20.94</td></tr>\n",
       "\t<tr><td>ENSG00000000003.10</td><td>ENST00000494424.1</td><td>0.29</td><td>0.12</td><td> 0.58</td></tr>\n",
       "\t<tr><td>ENSG00000000003.10</td><td>ENST00000496771.1</td><td>0.49</td><td>0.16</td><td> 1.28</td></tr>\n",
       "\t<tr><td>ENSG00000000005.5 </td><td>ENST00000373031.4</td><td>0.00</td><td>0.00</td><td> 0.00</td></tr>\n",
       "\t<tr><td>ENSG00000000005.5 </td><td>ENST00000485971.1</td><td>0.00</td><td>0.00</td><td> 0.00</td></tr>\n",
       "</tbody>\n",
       "</table>\n"
      ],
      "text/latex": [
       "A data.table: 5 × 5\n",
       "\\begin{tabular}{lllll}\n",
       " gene\\_id & transcript\\_id & 22RV1\\_PROSTATE & 2313287\\_STOMACH & 253JBV\\_URINARY\\_TRACT\\\\\n",
       " <chr> & <chr> & <dbl> & <dbl> & <dbl>\\\\\n",
       "\\hline\n",
       "\t ENSG00000000003.10 & ENST00000373020.4 & 4.50 & 6.72 & 20.94\\\\\n",
       "\t ENSG00000000003.10 & ENST00000494424.1 & 0.29 & 0.12 &  0.58\\\\\n",
       "\t ENSG00000000003.10 & ENST00000496771.1 & 0.49 & 0.16 &  1.28\\\\\n",
       "\t ENSG00000000005.5  & ENST00000373031.4 & 0.00 & 0.00 &  0.00\\\\\n",
       "\t ENSG00000000005.5  & ENST00000485971.1 & 0.00 & 0.00 &  0.00\\\\\n",
       "\\end{tabular}\n"
      ],
      "text/markdown": [
       "\n",
       "A data.table: 5 × 5\n",
       "\n",
       "| gene_id &lt;chr&gt; | transcript_id &lt;chr&gt; | 22RV1_PROSTATE &lt;dbl&gt; | 2313287_STOMACH &lt;dbl&gt; | 253JBV_URINARY_TRACT &lt;dbl&gt; |\n",
       "|---|---|---|---|---|\n",
       "| ENSG00000000003.10 | ENST00000373020.4 | 4.50 | 6.72 | 20.94 |\n",
       "| ENSG00000000003.10 | ENST00000494424.1 | 0.29 | 0.12 |  0.58 |\n",
       "| ENSG00000000003.10 | ENST00000496771.1 | 0.49 | 0.16 |  1.28 |\n",
       "| ENSG00000000005.5  | ENST00000373031.4 | 0.00 | 0.00 |  0.00 |\n",
       "| ENSG00000000005.5  | ENST00000485971.1 | 0.00 | 0.00 |  0.00 |\n",
       "\n"
      ],
      "text/plain": [
       "  gene_id            transcript_id     22RV1_PROSTATE 2313287_STOMACH\n",
       "1 ENSG00000000003.10 ENST00000373020.4 4.50           6.72           \n",
       "2 ENSG00000000003.10 ENST00000494424.1 0.29           0.12           \n",
       "3 ENSG00000000003.10 ENST00000496771.1 0.49           0.16           \n",
       "4 ENSG00000000005.5  ENST00000373031.4 0.00           0.00           \n",
       "5 ENSG00000000005.5  ENST00000485971.1 0.00           0.00           \n",
       "  253JBV_URINARY_TRACT\n",
       "1 20.94               \n",
       "2  0.58               \n",
       "3  1.28               \n",
       "4  0.00               \n",
       "5  0.00               "
      ]
     },
     "metadata": {},
     "output_type": "display_data"
    }
   ],
   "source": [
    "preprocessedExpression$transcripts_tpm[1:5,1:5]"
   ]
  },
  {
   "cell_type": "code",
   "execution_count": null,
   "metadata": {
    "vscode": {
     "languageId": "r"
    }
   },
   "outputs": [],
   "source": []
  },
  {
   "cell_type": "markdown",
   "metadata": {},
   "source": [
    "# Gencode v19 and v40"
   ]
  },
  {
   "cell_type": "code",
   "execution_count": 5,
   "metadata": {
    "vscode": {
     "languageId": "r"
    }
   },
   "outputs": [
    {
     "data": {
      "text/html": [
       "<table class=\"dataframe\">\n",
       "<caption>A data.table: 6 × 4</caption>\n",
       "<thead>\n",
       "\t<tr><th scope=col>gene_id</th><th scope=col>transcript_id</th><th scope=col>gene_name</th><th scope=col>transcript_name</th></tr>\n",
       "\t<tr><th scope=col>&lt;chr&gt;</th><th scope=col>&lt;chr&gt;</th><th scope=col>&lt;chr&gt;</th><th scope=col>&lt;chr&gt;</th></tr>\n",
       "</thead>\n",
       "<tbody>\n",
       "\t<tr><td>ENSG00000223972.4</td><td>ENST00000456328.2</td><td>DDX11L1</td><td>DDX11L1-002</td></tr>\n",
       "\t<tr><td>ENSG00000223972.4</td><td>ENST00000515242.2</td><td>DDX11L1</td><td>DDX11L1-201</td></tr>\n",
       "\t<tr><td>ENSG00000223972.4</td><td>ENST00000518655.2</td><td>DDX11L1</td><td>DDX11L1-202</td></tr>\n",
       "\t<tr><td>ENSG00000223972.4</td><td>ENST00000450305.2</td><td>DDX11L1</td><td>DDX11L1-001</td></tr>\n",
       "\t<tr><td>ENSG00000227232.4</td><td>ENST00000438504.2</td><td>WASH7P </td><td>WASH7P-202 </td></tr>\n",
       "\t<tr><td>ENSG00000227232.4</td><td>ENST00000541675.1</td><td>WASH7P </td><td>WASH7P-204 </td></tr>\n",
       "</tbody>\n",
       "</table>\n"
      ],
      "text/latex": [
       "A data.table: 6 × 4\n",
       "\\begin{tabular}{llll}\n",
       " gene\\_id & transcript\\_id & gene\\_name & transcript\\_name\\\\\n",
       " <chr> & <chr> & <chr> & <chr>\\\\\n",
       "\\hline\n",
       "\t ENSG00000223972.4 & ENST00000456328.2 & DDX11L1 & DDX11L1-002\\\\\n",
       "\t ENSG00000223972.4 & ENST00000515242.2 & DDX11L1 & DDX11L1-201\\\\\n",
       "\t ENSG00000223972.4 & ENST00000518655.2 & DDX11L1 & DDX11L1-202\\\\\n",
       "\t ENSG00000223972.4 & ENST00000450305.2 & DDX11L1 & DDX11L1-001\\\\\n",
       "\t ENSG00000227232.4 & ENST00000438504.2 & WASH7P  & WASH7P-202 \\\\\n",
       "\t ENSG00000227232.4 & ENST00000541675.1 & WASH7P  & WASH7P-204 \\\\\n",
       "\\end{tabular}\n"
      ],
      "text/markdown": [
       "\n",
       "A data.table: 6 × 4\n",
       "\n",
       "| gene_id &lt;chr&gt; | transcript_id &lt;chr&gt; | gene_name &lt;chr&gt; | transcript_name &lt;chr&gt; |\n",
       "|---|---|---|---|\n",
       "| ENSG00000223972.4 | ENST00000456328.2 | DDX11L1 | DDX11L1-002 |\n",
       "| ENSG00000223972.4 | ENST00000515242.2 | DDX11L1 | DDX11L1-201 |\n",
       "| ENSG00000223972.4 | ENST00000518655.2 | DDX11L1 | DDX11L1-202 |\n",
       "| ENSG00000223972.4 | ENST00000450305.2 | DDX11L1 | DDX11L1-001 |\n",
       "| ENSG00000227232.4 | ENST00000438504.2 | WASH7P  | WASH7P-202  |\n",
       "| ENSG00000227232.4 | ENST00000541675.1 | WASH7P  | WASH7P-204  |\n",
       "\n"
      ],
      "text/plain": [
       "  gene_id           transcript_id     gene_name transcript_name\n",
       "1 ENSG00000223972.4 ENST00000456328.2 DDX11L1   DDX11L1-002    \n",
       "2 ENSG00000223972.4 ENST00000515242.2 DDX11L1   DDX11L1-201    \n",
       "3 ENSG00000223972.4 ENST00000518655.2 DDX11L1   DDX11L1-202    \n",
       "4 ENSG00000223972.4 ENST00000450305.2 DDX11L1   DDX11L1-001    \n",
       "5 ENSG00000227232.4 ENST00000438504.2 WASH7P    WASH7P-202     \n",
       "6 ENSG00000227232.4 ENST00000541675.1 WASH7P    WASH7P-204     "
      ]
     },
     "metadata": {},
     "output_type": "display_data"
    }
   ],
   "source": [
    "### ------------------- Load GENCODE ------------------- ####\n",
    "ccle_gencode <- \"/home/bioinf/bhklab/jermiah/psets/PharmacoSet-Pipelines/CCLE/metadata/human/GRCh37/release-19/GENCODE-annotation.gtf.gz\"\n",
    "dsGencode <- rtracklayer::import(ccle_gencode)\n",
    "dsGencodeDt <- data.table::as.data.table(dsGencode)\n",
    "dsGencodeDt <- dsGencodeDt[dsGencodeDt$type == \"transcript\",]\n",
    "head(dsGencodeDt[, .(gene_id, transcript_id, gene_name, transcript_name)])"
   ]
  },
  {
   "cell_type": "code",
   "execution_count": 6,
   "metadata": {
    "vscode": {
     "languageId": "r"
    }
   },
   "outputs": [
    {
     "data": {
      "text/html": [
       "<table class=\"dataframe\">\n",
       "<caption>A data.table: 6 × 4</caption>\n",
       "<thead>\n",
       "\t<tr><th scope=col>gene_id</th><th scope=col>transcript_id</th><th scope=col>gene_name</th><th scope=col>transcript_name</th></tr>\n",
       "\t<tr><th scope=col>&lt;chr&gt;</th><th scope=col>&lt;chr&gt;</th><th scope=col>&lt;chr&gt;</th><th scope=col>&lt;chr&gt;</th></tr>\n",
       "</thead>\n",
       "<tbody>\n",
       "\t<tr><td>ENSG00000223972.5_5 </td><td>ENST00000456328.2_1</td><td>DDX11L1    </td><td>DDX11L1-202    </td></tr>\n",
       "\t<tr><td>ENSG00000223972.5_5 </td><td>ENST00000450305.2_2</td><td>DDX11L1    </td><td>DDX11L1-201    </td></tr>\n",
       "\t<tr><td>ENSG00000227232.5_5 </td><td>ENST00000488147.1_4</td><td>WASH7P     </td><td>WASH7P-201     </td></tr>\n",
       "\t<tr><td>ENSG00000243485.5_11</td><td>ENST00000473358.1_4</td><td>MIR1302-2HG</td><td>MIR1302-2HG-202</td></tr>\n",
       "\t<tr><td>ENSG00000243485.5_11</td><td>ENST00000469289.1_1</td><td>MIR1302-2HG</td><td>MIR1302-2HG-201</td></tr>\n",
       "\t<tr><td>ENSG00000237613.2_6 </td><td>ENST00000417324.1_4</td><td>FAM138A    </td><td>FAM138A-201    </td></tr>\n",
       "</tbody>\n",
       "</table>\n"
      ],
      "text/latex": [
       "A data.table: 6 × 4\n",
       "\\begin{tabular}{llll}\n",
       " gene\\_id & transcript\\_id & gene\\_name & transcript\\_name\\\\\n",
       " <chr> & <chr> & <chr> & <chr>\\\\\n",
       "\\hline\n",
       "\t ENSG00000223972.5\\_5  & ENST00000456328.2\\_1 & DDX11L1     & DDX11L1-202    \\\\\n",
       "\t ENSG00000223972.5\\_5  & ENST00000450305.2\\_2 & DDX11L1     & DDX11L1-201    \\\\\n",
       "\t ENSG00000227232.5\\_5  & ENST00000488147.1\\_4 & WASH7P      & WASH7P-201     \\\\\n",
       "\t ENSG00000243485.5\\_11 & ENST00000473358.1\\_4 & MIR1302-2HG & MIR1302-2HG-202\\\\\n",
       "\t ENSG00000243485.5\\_11 & ENST00000469289.1\\_1 & MIR1302-2HG & MIR1302-2HG-201\\\\\n",
       "\t ENSG00000237613.2\\_6  & ENST00000417324.1\\_4 & FAM138A     & FAM138A-201    \\\\\n",
       "\\end{tabular}\n"
      ],
      "text/markdown": [
       "\n",
       "A data.table: 6 × 4\n",
       "\n",
       "| gene_id &lt;chr&gt; | transcript_id &lt;chr&gt; | gene_name &lt;chr&gt; | transcript_name &lt;chr&gt; |\n",
       "|---|---|---|---|\n",
       "| ENSG00000223972.5_5  | ENST00000456328.2_1 | DDX11L1     | DDX11L1-202     |\n",
       "| ENSG00000223972.5_5  | ENST00000450305.2_2 | DDX11L1     | DDX11L1-201     |\n",
       "| ENSG00000227232.5_5  | ENST00000488147.1_4 | WASH7P      | WASH7P-201      |\n",
       "| ENSG00000243485.5_11 | ENST00000473358.1_4 | MIR1302-2HG | MIR1302-2HG-202 |\n",
       "| ENSG00000243485.5_11 | ENST00000469289.1_1 | MIR1302-2HG | MIR1302-2HG-201 |\n",
       "| ENSG00000237613.2_6  | ENST00000417324.1_4 | FAM138A     | FAM138A-201     |\n",
       "\n"
      ],
      "text/plain": [
       "  gene_id              transcript_id       gene_name   transcript_name\n",
       "1 ENSG00000223972.5_5  ENST00000456328.2_1 DDX11L1     DDX11L1-202    \n",
       "2 ENSG00000223972.5_5  ENST00000450305.2_2 DDX11L1     DDX11L1-201    \n",
       "3 ENSG00000227232.5_5  ENST00000488147.1_4 WASH7P      WASH7P-201     \n",
       "4 ENSG00000243485.5_11 ENST00000473358.1_4 MIR1302-2HG MIR1302-2HG-202\n",
       "5 ENSG00000243485.5_11 ENST00000469289.1_1 MIR1302-2HG MIR1302-2HG-201\n",
       "6 ENSG00000237613.2_6  ENST00000417324.1_4 FAM138A     FAM138A-201    "
      ]
     },
     "metadata": {},
     "output_type": "display_data"
    }
   ],
   "source": [
    "gencode40 <- \"/home/bioinf/bhklab/jermiah/psets/PharmacoSet-Pipelines/CCLE/metadata/human/GRCh37/release-40/GENCODE-annotation.gtf.gz\"\n",
    "\n",
    "dsGencode40 <- rtracklayer::import(gencode40)\n",
    "dsGencode40Dt <- data.table::as.data.table(dsGencode40)\n",
    "dsGencode40Dt <- dsGencode40Dt[dsGencode40Dt$type == \"transcript\",]\n",
    "head(dsGencode40Dt[, .(gene_id, transcript_id, gene_name, transcript_name)])"
   ]
  },
  {
   "cell_type": "code",
   "execution_count": null,
   "metadata": {
    "vscode": {
     "languageId": "r"
    }
   },
   "outputs": [],
   "source": []
  }
 ],
 "metadata": {
  "kernelspec": {
   "display_name": "R",
   "language": "R",
   "name": "ir"
  },
  "language_info": {
   "codemirror_mode": "r",
   "file_extension": ".r",
   "mimetype": "text/x-r-source",
   "name": "R",
   "pygments_lexer": "r",
   "version": "4.3.1"
  }
 },
 "nbformat": 4,
 "nbformat_minor": 2
}
